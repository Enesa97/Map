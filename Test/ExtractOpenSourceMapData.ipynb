{
 "cells": [
  {
   "cell_type": "code",
   "execution_count": 2,
   "metadata": {},
   "outputs": [],
   "source": [
    "from pyrosm import OSM\n",
    "import geopandas as gpd\n",
    "\n",
    "# Load the OSM data\n",
    "osm = OSM(\"OpenStreetMap Data Source/berlin-latest.osm.pbf\")\n",
    "\n",
    "# Extract building footprints or other relevant features\n",
    "buildings = osm.get_buildings()\n",
    "\n",
    "# Save to GeoJSON\n",
    "buildings.to_file(\"berlin-map/berlin_buildings.geojson\", driver=\"GeoJSON\")"
   ]
  }
 ],
 "metadata": {
  "kernelspec": {
   "display_name": "Python 3",
   "language": "python",
   "name": "python3"
  },
  "language_info": {
   "codemirror_mode": {
    "name": "ipython",
    "version": 3
   },
   "file_extension": ".py",
   "mimetype": "text/x-python",
   "name": "python",
   "nbconvert_exporter": "python",
   "pygments_lexer": "ipython3",
   "version": "3.11.6"
  }
 },
 "nbformat": 4,
 "nbformat_minor": 2
}
